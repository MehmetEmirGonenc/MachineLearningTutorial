{
 "cells": [
  {
   "cell_type": "markdown",
   "metadata": {},
   "source": [
    "### Welcome to First Lab !! \n",
    "On this lab you will use what you learned from the article. You are tasked for completing all TODO parts and test them for correct output. If you get stuck on somewhere you can gey hint or get help from article."
   ]
  },
  {
   "cell_type": "markdown",
   "metadata": {},
   "source": [
    "First we train our model by using linear regression, then we test model with another dataset."
   ]
  },
  {
   "cell_type": "markdown",
   "metadata": {},
   "source": [
    "Before starting we need to import necessary libs."
   ]
  },
  {
   "cell_type": "code",
   "execution_count": 45,
   "metadata": {},
   "outputs": [],
   "source": [
    "import numpy as np\n",
    "import matplotlib.pyplot as plt"
   ]
  },
  {
   "cell_type": "markdown",
   "metadata": {},
   "source": [
    "First we need a dataset for this lab, and now we create a small dataset. \n",
    "\n",
    "Square footage (1000s sq ft) - Price ($10,000s) dataset"
   ]
  },
  {
   "cell_type": "code",
   "execution_count": 46,
   "metadata": {},
   "outputs": [],
   "source": [
    "# Defining train dataset\n",
    "train_dataset = np.array([\n",
    "                        [1.5, 25],\n",
    "                        [2, 32],\n",
    "                        [5.1, 61],\n",
    "                        [5.6, 68],\n",
    "                        [6.1, 74],\n",
    "                        [5.2, 62],\n",
    "                        [5.7, 69],\n",
    "                        [6.2, 75],\n",
    "                        [5.3, 63],\n",
    "                        [5.8, 70],\n",
    "                        [6.3, 76],\n",
    "                        [5.4, 64],\n",
    "                        [5.9, 71],\n",
    "                        [6.4, 77],\n",
    "                        [5.5, 65],\n",
    "                        [6, 72],\n",
    "                        [6.5, 78],\n",
    "                        [5.6, 66],\n",
    "                        [6.1, 73],\n",
    "                        [6.6, 79],\n",
    "                        [5.7, 67],\n",
    "                        [6.2, 74],\n",
    "                        [6.7, 80],\n",
    "                        [2.9, 42],\n",
    "                        [2, 30],\n",
    "                        [2.5, 37],\n",
    "                        [3, 43],\n",
    "                        [2.1, 31],\n",
    "                        [2.6, 38],\n",
    "                        [3.1, 44],\n",
    "                        [2.2, 32],\n",
    "                        [2.7, 39],\n",
    "                        [3.2, 45],\n",
    "                        [2.3, 33],\n",
    "                        [2.8, 40],\n",
    "                        [3.3, 46],\n",
    "                        [2.4, 34],\n",
    "                        [2.9, 41],\n",
    "                        [3.4, 47],\n",
    "                        [2.5, 35],\n",
    "                        [3, 42],\n",
    "                        [3.5, 48],\n",
    "                        [2.6, 36],\n",
    "                        [3.1, 43],\n",
    "                        [3.6, 49],\n",
    "                        [2.7, 37],\n",
    "                        [3.2, 44],\n",
    "                        [3.7, 50],\n",
    "                        [2.8, 38],\n",
    "                        [3.3, 45],\n",
    "                        [3.8, 51],\n",
    "                        [2.9, 39],\n",
    "                        [3.4, 46],\n",
    "                        [3.9, 52],\n",
    "                        [3, 40],\n",
    "                        [3.5, 47],\n",
    "                        [4, 53],\n",
    "                        [3.1, 41],\n",
    "                        [3.6, 48],\n",
    "                        [4.1, 54],\n",
    "                        [3.2, 42],\n",
    "                        [3.7, 49],\n",
    "                        [4.2, 55],\n",
    "                        [3.3, 43],\n",
    "                        [3.8, 50],\n",
    "                        [4.3, 56],\n",
    "                        [3.4, 44],\n",
    "                        [3.9, 51],\n",
    "                        [4.4, 57],\n",
    "                        [3.5, 45],\n",
    "                        [4, 52],\n",
    "                        [4.5, 58],\n",
    "                        [3.6, 46],\n",
    "                        [4.1, 53],\n",
    "                        [4.6, 59],\n",
    "                        [3.7, 47],\n",
    "                        [4.2, 54],\n",
    "                        [4.7, 60],\n",
    "                        [3.8, 48],\n",
    "                        [4.3, 55],\n",
    "                        [4.8, 61],\n",
    "                        [3.9, 49],\n",
    "                        [4.4, 56],\n",
    "                        [4.9, 62],\n",
    "                        [4, 50],\n",
    "                        [4.5, 57],\n",
    "                        [5, 63],\n",
    "                        [4.1, 51],\n",
    "                        [4.6, 58],\n",
    "                        [5.1, 64],\n",
    "                        [4.2, 52],\n",
    "                        [4.7, 59],\n",
    "                        [5.2, 65],\n",
    "                        [4.3, 53],\n",
    "                        [4.8, 60],\n",
    "                        [5.3, 66],\n",
    "                        [4.4, 54],\n",
    "                        [4.9, 61]\n",
    "])"
   ]
  },
  {
   "cell_type": "code",
   "execution_count": 47,
   "metadata": {},
   "outputs": [],
   "source": [
    "# Defining test dataset\n",
    "test_dataset = np.array([\n",
    "                        [5.4, 67],\n",
    "                        [4.5, 55],\n",
    "                        [5, 62],\n",
    "                        [5.5, 68],\n",
    "                        [4.6, 56],\n",
    "                        [5.1, 63],\n",
    "                        [5.6, 69],\n",
    "                        [4.7, 57],\n",
    "                        [5.2, 64],\n",
    "                        [5.7, 70],\n",
    "                        [4.8, 58],\n",
    "                        [5.3, 65],\n",
    "                        [5.8, 71],\n",
    "                        [4.9, 59],\n",
    "                        [5.4, 66],\n",
    "                        [5.9, 72],\n",
    "                        [5, 60],\n",
    "                        [5.5, 67],\n",
    "                        [6, 73],\n",
    "                        [1.8, 28],\n",
    "                        [2.2, 35],\n",
    "                        [1.6, 27],\n",
    "                        [1.9, 30],\n",
    "                        [2.1, 33],\n",
    "                        [1.7, 26],\n",
    "                        [2.3, 36],\n",
    "                        [2, 29],\n",
    "                        [2.4, 37],\n",
    "                        [1.8, 27],\n",
    "                        [2.5, 38],\n",
    "                        [2.1, 31],\n",
    "                        [2.6, 39],\n",
    "                        [1.7, 25],\n",
    "                        [2.2, 33],\n",
    "                        [2.7, 40],\n",
    "                        [1.8, 28],\n",
    "                        [2.3, 35],\n",
    "                        [2.8, 41],\n",
    "                        [1.9, 29],\n",
    "                        [2.4, 36],\n",
    "                        [5.8, 68]\n",
    "])"
   ]
  },
  {
   "cell_type": "markdown",
   "metadata": {},
   "source": [
    "Lets seperate train dataset as x and y values."
   ]
  },
  {
   "cell_type": "code",
   "execution_count": 48,
   "metadata": {},
   "outputs": [],
   "source": [
    "x_train = train_dataset[:,0]\n",
    "y_train = train_dataset[:,1]"
   ]
  },
  {
   "cell_type": "code",
   "execution_count": 49,
   "metadata": {},
   "outputs": [
    {
     "data": {
      "image/png": "[encoded data removed]",
      "text/plain": [
       "<Figure size 640x480 with 1 Axes>"
      ]
     },
     "metadata": {},
     "output_type": "display_data"
    }
   ],
   "source": [
    "plt.scatter(x_train, y_train, marker='x', c=\"r\")\n",
    "plt.title(\"Square footage (1000s sq ft) - Price ($10,000s)\")\n",
    "plt.xlabel(\"Price ($10,000s)\")\n",
    "plt.ylabel(\"Square footage (1000s sq ft)\")\n",
    "plt.show()"
   ]
  },
  {
   "cell_type": "markdown",
   "metadata": {},
   "source": [
    "<details>\n",
    "  <summary>Hint</summary>\n",
    "  \n",
    "  <details>\n",
    "    <summary>You need more help?</summary>\n",
    "    <pre><code></code></pre>\n",
    "  </details>\n",
    "</details>\n"
   ]
  },
  {
   "cell_type": "markdown",
   "metadata": {},
   "source": [
    "Now lets make a linear regression model."
   ]
  },
  {
   "cell_type": "markdown",
   "metadata": {},
   "source": [
    "#### Define linear function:"
   ]
  },
  {
   "cell_type": "code",
   "execution_count": 50,
   "metadata": {},
   "outputs": [],
   "source": [
    "#TODO\n",
    "\n",
    "#"
   ]
  },
  {
   "cell_type": "markdown",
   "metadata": {},
   "source": [
    "<details>\n",
    "  <summary>Hint</summary>\n",
    "    Define a function that takes x, w and b values as parameters and returns with functions output.\n",
    "\n",
    "    Apply this formula:\n",
    "\n",
    "  ![Alt text](image-1.png)\n",
    "    \n",
    "  <details>\n",
    "    <summary>You need more help?</summary>\n",
    "    <pre><code>def f_wb (x, w, b):\n",
    "    \"\"\"\n",
    "    Args:\n",
    "    x -> scalar\n",
    "    w -> scalar\n",
    "    b -> scalar\n",
    "    return:\n",
    "    one scalar\n",
    "    \"\"\"\n",
    "    return x * w + b</code></pre>\n",
    "    \n",
    "  </details>\n",
    "</details>\n"
   ]
  },
  {
   "cell_type": "markdown",
   "metadata": {},
   "source": [
    "#### Cost Function:"
   ]
  },
  {
   "cell_type": "code",
   "execution_count": 51,
   "metadata": {},
   "outputs": [],
   "source": [
    "def cost_function (x, y, w, b):\n",
    "    total_cost = 0\n",
    "    #TODO\n",
    "\n",
    "    #\n",
    "    return total_cost"
   ]
  },
  {
   "cell_type": "markdown",
   "metadata": {},
   "source": [
    "<details>\n",
    "  <summary>Hint</summary>\n",
    "  \n",
    "  You need to define a cost function that takes x, y, w and b values as paramaters and returns with a total cost.\n",
    "  \n",
    "  Apply squared error function:\n",
    "\n",
    "  \n",
    "   ![Alt text](image-2.png)\n",
    "  <details>\n",
    "    <summary>You need more help?</summary>\n",
    "    <pre><code>def cost_function(x, y, w, b):\n",
    "    \"\"\"\n",
    "    Args:\n",
    "    x_values -> vector\n",
    "    w -> scalar\n",
    "    b -> scalar\n",
    "    return:\n",
    "    total_cost -> scalar\n",
    "    \"\"\"\n",
    "      m = x_values.size\n",
    "      \n",
    "      total_cost = 0\n",
    "\n",
    "      for i in range(m):\n",
    "          cost = f_wb(x_values[i],w,b) - y_values[i]\n",
    "          cost = cost **2\n",
    "          total_cost += cost\n",
    "      return total_cost \n",
    "    \n",
    "  </code></pre>\n",
    "\n",
    "  </details>\n",
    "</details>\n"
   ]
  },
  {
   "cell_type": "markdown",
   "metadata": {},
   "source": [
    "#### Gradient Compute:"
   ]
  },
  {
   "cell_type": "markdown",
   "metadata": {},
   "source": [
    "Now we need to compute gradient, actually derivatives for both w and b."
   ]
  },
  {
   "cell_type": "code",
   "execution_count": 52,
   "metadata": {},
   "outputs": [],
   "source": [
    "def gradient_compute (x, y, w, b):\n",
    "    dj_dw = 0\n",
    "    dj_db = 0\n",
    "    #TODO\n",
    "\n",
    "    #\n",
    "    return dj_dw, dj_db"
   ]
  },
  {
   "cell_type": "markdown",
   "metadata": {},
   "source": [
    "<details>\n",
    "  <summary>Hint</summary>\n",
    "    Define a function that take x, y, w and b values as parameter and returns with derivative of w and b.\n",
    "    Formulas:\n",
    "\n",
    "  ![Alt text](image-6.png)\n",
    "  <details>\n",
    "    <summary>You need more help?</summary>\n",
    "    <pre><code>def gradient_compute (x, y, w, b):\n",
    "    \"\"\"\n",
    "    Computes the gradient for linear regression \n",
    "    Args:\n",
    "      x -> ndarray\n",
    "      y -> ndarray\n",
    "      w,b -> (scalar)  \n",
    "    Returns\n",
    "      dj_dw (scalar)\n",
    "      dj_db (scalar) \n",
    "     \"\"\"\n",
    "      m = x.size\n",
    "\n",
    "      dj_dw = 0\n",
    "      dj_db = 0\n",
    "\n",
    "      for i in range(m):\n",
    "          dj_dw += (f_wb(x[i], w, b) - y[i]) * x[i]\n",
    "          dj_db += f_wb(x[i], w, b) - y[i]\n",
    "      \n",
    "      dj_dw /= m\n",
    "      dj_db /= m\n",
    "      return dj_dw, dj_db\n",
    "</code></pre>\n",
    "  </details>\n",
    "</details>\n"
   ]
  },
  {
   "cell_type": "markdown",
   "metadata": {},
   "source": [
    "#### Gradient Descent:"
   ]
  },
  {
   "cell_type": "code",
   "execution_count": 53,
   "metadata": {},
   "outputs": [],
   "source": [
    "#TODO\n",
    "\n",
    "#"
   ]
  },
  {
   "cell_type": "markdown",
   "metadata": {},
   "source": [
    "<details>\n",
    "  <summary>Hint</summary>\n",
    "    Define a function that takes x, y, w, b, number of iterations and alpha as parameters and returns with gradient descent w and b.\n",
    "\n",
    "  ![Alt text](image-6.png)\n",
    "  <details>\n",
    "    <summary>You need more help?</summary>\n",
    "    <pre><code>def gradient_descent (x, y, w, b, num_iters= 5000, alpha=0.1):\n",
    "    \"\"\"\n",
    "    Performs gradient descent to fit w,b. Updates w,b by taking \n",
    "    num_iters gradient steps with learning rate alpha\n",
    "    \n",
    "    Args:\n",
    "      x -> ndarray \n",
    "      y -> ndarray \n",
    "      w,b -> (scalar)\n",
    "      num_iters -> int\n",
    "      alpha -> float\n",
    "      \n",
    "    Returns:\n",
    "      w (scalar): Updated value of parameter after running gradient descent\n",
    "      b (scalar): Updated value of parameter after running gradient descent\n",
    "      \"\"\"\n",
    "    \n",
    "\n",
    "    for i in range(num_iters):\n",
    "        # Calculate gradient\n",
    "        dj_dw, dj_db = gradient_compute(x, y, w, b)\n",
    "\n",
    "        w -= alpha * dj_dw\n",
    "        b -= alpha * dj_db\n",
    "\n",
    "    return w, b\n",
    "  </code></pre>\n",
    "  </details>\n",
    "</details>\n"
   ]
  },
  {
   "cell_type": "markdown",
   "metadata": {},
   "source": [
    "Now lets find the optimum iteration number by sketching the cost-iter graph."
   ]
  },
  {
   "cell_type": "code",
   "execution_count": 54,
   "metadata": {},
   "outputs": [],
   "source": [
    "def cost_iter_graph (x, y, w, b, fucntion_cost, function_gradient_compute, num_iterations = 10000, alpha = 0.001): # x, y and w are vecors, b,num_iterations and alpha is scalers\n",
    "    x_points = np.arange(num_iterations)\n",
    "    y_points = np.zeros(num_iterations)\n",
    "    \n",
    "    for i in range(num_iterations):\n",
    "        y_points[i] = fucntion_cost(x, y, w, b)\n",
    "        \n",
    "        # Update w vector and b value\n",
    "        # To do that we need to go one step further (alpha)\n",
    "        dj_dw, dj_db = function_gradient_compute(x, y, w, b)\n",
    "        w -= alpha * dj_dw \n",
    "        b -= alpha * dj_db \n",
    "    return x_points, y_points"
   ]
  },
  {
   "cell_type": "markdown",
   "metadata": {},
   "source": [
    "Now call the cost_iter_graph and don't forget the enter all parameters."
   ]
  },
  {
   "cell_type": "code",
   "execution_count": 55,
   "metadata": {},
   "outputs": [
    {
     "data": {
      "text/plain": [
       "<matplotlib.collections.PathCollection at 0x125bda150>"
      ]
     },
     "execution_count": 55,
     "metadata": {},
     "output_type": "execute_result"
    },
    {
     "data": {
      "image/png": "[encoded data removed]",
      "text/plain": [
       "<Figure size 640x480 with 1 Axes>"
      ]
     },
     "metadata": {},
     "output_type": "display_data"
    }
   ],
   "source": [
    "init_w = 0\n",
    "init_b = 0\n",
    "#TODO\n",
    "x_points, y_points = 0,0\n",
    "# Call function with parameters insted of \"0,0\" delete it.\n",
    "# You can also change iteration number and alpha.\n",
    "\n",
    "plt.title(\"Cost-Iterations\")\n",
    "plt.xlabel(\"Iterations\")\n",
    "plt.ylabel(\"Cost\")\n",
    "plt.scatter(x_points, y_points, marker=\".\", c=\"r\")"
   ]
  },
  {
   "cell_type": "markdown",
   "metadata": {},
   "source": [
    "<details>\n",
    "  <summary>Hint</summary>\n",
    "  <code>x_points, y_points = cost_iter_graph(x_train, y_train, init_w, init_b, cost_function, gradient_compute)</code>\n",
    "  \n",
    "</details>\n"
   ]
  },
  {
   "cell_type": "markdown",
   "metadata": {},
   "source": [
    "I hope you found optimum iterations. Now time to call gradient descent and find best w and b values."
   ]
  },
  {
   "cell_type": "code",
   "execution_count": 56,
   "metadata": {},
   "outputs": [],
   "source": [
    "#TODO\n",
    "\n",
    "#"
   ]
  },
  {
   "cell_type": "markdown",
   "metadata": {},
   "source": [
    "<details>\n",
    "  <summary>Hint</summary>\n",
    "  <code>\n",
    "  iteration = # Iteration number that you found\n",
    "  alpha = # Take a try\n",
    "  final_w, final_b = gradient_descent(x_values, y_values, init_w, init_b, iteration, alpha)</code>\n",
    "</details>\n"
   ]
  },
  {
   "cell_type": "markdown",
   "metadata": {},
   "source": [
    "Now lets sketch the graph lihe that you found."
   ]
  },
  {
   "cell_type": "code",
   "execution_count": 58,
   "metadata": {
    "tags": [
     "hide-cell"
    ]
   },
   "outputs": [],
   "source": [
    "#TODO\n",
    "final_w = 0 # Write the value you found\n",
    "final_b = 0 # Write the value you found\n",
    "#\n"
   ]
  },
  {
   "cell_type": "markdown",
   "metadata": {},
   "source": [
    "You can pass this part and just look to output."
   ]
  },
  {
   "cell_type": "code",
   "execution_count": 62,
   "metadata": {},
   "outputs": [
    {
     "data": {
      "image/png": "[encoded data removed]",
      "text/plain": [
       "<Figure size 640x480 with 1 Axes>"
      ]
     },
     "metadata": {},
     "output_type": "display_data"
    }
   ],
   "source": [
    "plt.scatter(x_train, y_train, marker='x', c=\"r\")\n",
    "start_x = x_train.min()\n",
    "end_x = x_train.max()\n",
    "start_y = final_w * x_train.min() + final_b\n",
    "end_y = final_w * x_train.max() + final_b\n",
    "plt.plot([start_x, end_x], [start_y, end_y], label=f\"f={final_w}x+{final_b}\")\n",
    "plt.title(\"Square footage (1000s sq ft) - Price ($10,000s)\")\n",
    "plt.xlabel(\"Price ($10,000s)\")\n",
    "plt.ylabel(\"Square footage (1000s sq ft)\")\n",
    "plt.show()"
   ]
  },
  {
   "cell_type": "markdown",
   "metadata": {},
   "source": [
    "Now lets try our model on our test dataset and see how accurate it predicts."
   ]
  },
  {
   "cell_type": "code",
   "execution_count": 63,
   "metadata": {},
   "outputs": [],
   "source": [
    "x_test = test_dataset[:,0]\n",
    "y_test = test_dataset[:,1]"
   ]
  },
  {
   "cell_type": "markdown",
   "metadata": {},
   "source": [
    "<details>\n",
    "  <summary>Hint</summary>\n",
    "  \n",
    "  <details>\n",
    "    <summary>You need more help?</summary>\n",
    "    <pre><code></code></pre>\n",
    "  </details>\n",
    "</details>\n"
   ]
  }
 ],
 "metadata": {
  "kernelspec": {
   "display_name": "Python 3",
   "language": "python",
   "name": "python3"
  },
  "language_info": {
   "codemirror_mode": {
    "name": "ipython",
    "version": 3
   },
   "file_extension": ".py",
   "mimetype": "text/x-python",
   "name": "python",
   "nbconvert_exporter": "python",
   "pygments_lexer": "ipython3",
   "version": "3.11.6"
  },
  "orig_nbformat": 4
 },
 "nbformat": 4,
 "nbformat_minor": 2
}
